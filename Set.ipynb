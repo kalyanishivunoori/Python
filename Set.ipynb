{
 "cells": [
  {
   "cell_type": "markdown",
   "id": "6314924a",
   "metadata": {},
   "source": [
    "# Set\n",
    "**Sets are used to store multiple items in a single variable.\n",
    "\n",
    "**A set is a collection which is unordered, unchangeable*, and unindexed and cannot be referred to by index or key.\n",
    "\n",
    "**Do not allow duplicate values.\n",
    "\n",
    "**Set enclosed in -{}\n",
    "\n"
   ]
  },
  {
   "cell_type": "markdown",
   "id": "bd6ce91c",
   "metadata": {},
   "source": [
    "# Methods used\n",
    "\n",
    "**len()\n",
    "type()\n",
    "in\n",
    "add()\n",
    "update()\n",
    "remove()\n",
    "discard()\n",
    "clear()\n",
    "\n",
    "del\n",
    "pop()\n",
    "\n",
    "**union()____ |\n",
    "intersection()_____ &\n",
    "intersection_update()\n",
    "difference()________   \"-\"\n",
    "difference_update()\n",
    "symmetric_difference()_____ ^\n",
    "\n"
   ]
  },
  {
   "cell_type": "code",
   "execution_count": 4,
   "id": "8f5a03ef",
   "metadata": {},
   "outputs": [
    {
     "name": "stdout",
     "output_type": "stream",
     "text": [
      "{1, 500, 'green color', 'kalyani'}\n",
      "4\n",
      "<class 'set'>\n"
     ]
    }
   ],
   "source": [
    "x={1,\"kalyani\",\"green color\",500}\n",
    "print(x)\n",
    "print(len(x))\n",
    "print(type(x))\n"
   ]
  },
  {
   "cell_type": "markdown",
   "id": "65f77706",
   "metadata": {},
   "source": [
    "#  Access Set Items\n",
    "\n",
    "\n",
    "**You cannot access items in a set by referring to an index or a key.\n",
    "\n",
    "**But you can loop through the set items using a for loop, or ask if a specified value is present in a set, by using the in keyword."
   ]
  },
  {
   "cell_type": "code",
   "execution_count": 11,
   "id": "9931b93f",
   "metadata": {},
   "outputs": [
    {
     "name": "stdout",
     "output_type": "stream",
     "text": [
      "1\n",
      "2\n",
      "3\n",
      "4\n",
      "False\n"
     ]
    }
   ],
   "source": [
    "x={1,2,3,4}\n",
    "for i in x:\n",
    "    print(i)\n",
    "print(5 in x)"
   ]
  },
  {
   "cell_type": "markdown",
   "id": "dc971de0",
   "metadata": {},
   "source": [
    "# Add Items\n",
    "\n",
    "**Once a set is created, you cannot change its items, but you can add new items.\n",
    "\n",
    "**To add items from another set into the current set, use the update() method."
   ]
  },
  {
   "cell_type": "code",
   "execution_count": 15,
   "id": "b3f3ae8d",
   "metadata": {},
   "outputs": [
    {
     "name": "stdout",
     "output_type": "stream",
     "text": [
      "{1, 2, 3, 4, 5, 6, 7, 8, 9}\n"
     ]
    }
   ],
   "source": [
    "x={1,2,3,4,5}\n",
    "x.add(9)\n",
    "y={6,7,8}\n",
    "x.update(y)\n",
    "print(x)"
   ]
  },
  {
   "cell_type": "markdown",
   "id": "ca2174f4",
   "metadata": {},
   "source": [
    "# Remove Item\n",
    "\n",
    "**To remove an item in a set, use the remove(), or the discard() method.\n",
    "\n",
    "**remove()-If the item to remove does not exist, remove() will raise an error.\n",
    "\n",
    "**discard()- If the item to remove does not exist, discard() will NOT raise an error."
   ]
  },
  {
   "cell_type": "code",
   "execution_count": 17,
   "id": "254a0298",
   "metadata": {},
   "outputs": [
    {
     "name": "stdout",
     "output_type": "stream",
     "text": [
      "{5, 7, 8, 9, 10}\n"
     ]
    }
   ],
   "source": [
    "a={5,6,7,8,9,10}\n",
    "a.remove(6)\n",
    "print(a)"
   ]
  },
  {
   "cell_type": "code",
   "execution_count": 19,
   "id": "9bb3c864",
   "metadata": {},
   "outputs": [
    {
     "name": "stdout",
     "output_type": "stream",
     "text": [
      "{1, 2, 4, 5}\n"
     ]
    }
   ],
   "source": [
    "s={1,2,3,4,5}\n",
    "s.discard(3)\n",
    "print(s)"
   ]
  },
  {
   "cell_type": "code",
   "execution_count": 18,
   "id": "0164a018",
   "metadata": {},
   "outputs": [
    {
     "ename": "KeyError",
     "evalue": "3",
     "output_type": "error",
     "traceback": [
      "\u001b[1;31m---------------------------------------------------------------------------\u001b[0m",
      "\u001b[1;31mKeyError\u001b[0m                                  Traceback (most recent call last)",
      "\u001b[1;32m~\\AppData\\Local\\Temp\\ipykernel_2952\\2005456360.py\u001b[0m in \u001b[0;36m<module>\u001b[1;34m\u001b[0m\n\u001b[0;32m      1\u001b[0m \u001b[0mb\u001b[0m\u001b[1;33m=\u001b[0m\u001b[1;33m{\u001b[0m\u001b[1;36m5\u001b[0m\u001b[1;33m,\u001b[0m\u001b[1;36m6\u001b[0m\u001b[1;33m,\u001b[0m\u001b[1;36m8\u001b[0m\u001b[1;33m,\u001b[0m\u001b[1;36m9\u001b[0m\u001b[1;33m}\u001b[0m\u001b[1;33m\u001b[0m\u001b[0m\n\u001b[1;32m----> 2\u001b[1;33m \u001b[0mb\u001b[0m\u001b[1;33m.\u001b[0m\u001b[0mremove\u001b[0m\u001b[1;33m(\u001b[0m\u001b[1;36m3\u001b[0m\u001b[1;33m)\u001b[0m\u001b[1;33m\u001b[0m\u001b[0m\n\u001b[0m",
      "\u001b[1;31mKeyError\u001b[0m: 3"
     ]
    }
   ],
   "source": [
    "b={5,6,8,9}\n",
    "b.remove(3)"
   ]
  },
  {
   "cell_type": "code",
   "execution_count": 20,
   "id": "57900f9a",
   "metadata": {},
   "outputs": [],
   "source": [
    "b={5,6,8,9}\n",
    "b.discard(3)"
   ]
  },
  {
   "cell_type": "markdown",
   "id": "2440cbbf",
   "metadata": {},
   "source": [
    "# pop\n",
    "**You can also use the pop() method to remove an item, but this method will remove a random item, so you cannot be sure what item that gets removed.\n",
    "\n",
    "**The return value of the pop() method is the removed item."
   ]
  },
  {
   "cell_type": "code",
   "execution_count": 21,
   "id": "1ebdf06e",
   "metadata": {},
   "outputs": [
    {
     "data": {
      "text/plain": [
       "66"
      ]
     },
     "execution_count": 21,
     "metadata": {},
     "output_type": "execute_result"
    }
   ],
   "source": [
    "t={22,55,66,88,99}\n",
    "t.pop()"
   ]
  },
  {
   "cell_type": "markdown",
   "id": "cb8296c8",
   "metadata": {},
   "source": [
    "**The clear() method empties the set\n",
    "**The del keyword will delete the set completely\n",
    "    "
   ]
  },
  {
   "cell_type": "code",
   "execution_count": 22,
   "id": "7aa1b6ab",
   "metadata": {},
   "outputs": [
    {
     "name": "stdout",
     "output_type": "stream",
     "text": [
      "set()\n"
     ]
    }
   ],
   "source": [
    "c={1,2,3,4,5}\n",
    "c.clear()\n",
    "print(c)"
   ]
  },
  {
   "cell_type": "code",
   "execution_count": 24,
   "id": "4bd9b333",
   "metadata": {},
   "outputs": [
    {
     "ename": "NameError",
     "evalue": "name 'c' is not defined",
     "output_type": "error",
     "traceback": [
      "\u001b[1;31m---------------------------------------------------------------------------\u001b[0m",
      "\u001b[1;31mNameError\u001b[0m                                 Traceback (most recent call last)",
      "\u001b[1;32m~\\AppData\\Local\\Temp\\ipykernel_2952\\2843731408.py\u001b[0m in \u001b[0;36m<module>\u001b[1;34m\u001b[0m\n\u001b[0;32m      1\u001b[0m \u001b[0mc\u001b[0m\u001b[1;33m=\u001b[0m\u001b[1;33m{\u001b[0m\u001b[1;36m1\u001b[0m\u001b[1;33m,\u001b[0m\u001b[1;36m2\u001b[0m\u001b[1;33m,\u001b[0m\u001b[1;36m3\u001b[0m\u001b[1;33m,\u001b[0m\u001b[1;36m4\u001b[0m\u001b[1;33m,\u001b[0m\u001b[1;36m5\u001b[0m\u001b[1;33m}\u001b[0m\u001b[1;33m\u001b[0m\u001b[0m\n\u001b[0;32m      2\u001b[0m \u001b[1;32mdel\u001b[0m \u001b[0mc\u001b[0m\u001b[1;33m\u001b[0m\u001b[0m\n\u001b[1;32m----> 3\u001b[1;33m \u001b[0mprint\u001b[0m\u001b[1;33m(\u001b[0m\u001b[0mc\u001b[0m\u001b[1;33m)\u001b[0m\u001b[1;33m\u001b[0m\u001b[0m\n\u001b[0m",
      "\u001b[1;31mNameError\u001b[0m: name 'c' is not defined"
     ]
    }
   ],
   "source": [
    "c={1,2,3,4,5}\n",
    "del c\n",
    "print(c)"
   ]
  },
  {
   "cell_type": "markdown",
   "id": "01dfe448",
   "metadata": {},
   "source": [
    "# Join Sets\n",
    "\n",
    "The union() and update() methods joins all items from both sets.\n",
    " Both union() and update() will exclude any duplicate items.\n",
    "\n",
    "The intersection() method keeps ONLY the duplicates.\n",
    "\n",
    "The difference() method keeps the items from the first set that are not in the other set(s).\n",
    "\n",
    "The symmetric_difference() method keeps all items EXCEPT the duplicates.\n"
   ]
  },
  {
   "cell_type": "markdown",
   "id": "971a17f0",
   "metadata": {},
   "source": [
    "# union\n",
    "\n",
    "**The union() method returns a new set with all items from both sets.\n",
    "You can use the | operator instead of the union() method, and you will get the same result.\n",
    "\n",
    "\n",
    "**The union() method allows you to join a set with other data types, like lists or tuples.\n",
    "The  | operator only allows you to join sets with sets, and not with other data types like you can with the  union() method."
   ]
  },
  {
   "cell_type": "code",
   "execution_count": 25,
   "id": "723a20c2",
   "metadata": {},
   "outputs": [
    {
     "name": "stdout",
     "output_type": "stream",
     "text": [
      "{1, 'a', 'b', 2, 3, 'c'}\n"
     ]
    }
   ],
   "source": [
    "set1 = {\"a\", \"b\", \"c\"}\n",
    "set2 = {1, 2, 3}\n",
    "\n",
    "set3 = set1.union(set2)\n",
    "print(set3)"
   ]
  },
  {
   "cell_type": "code",
   "execution_count": 26,
   "id": "02d5139c",
   "metadata": {},
   "outputs": [
    {
     "name": "stdout",
     "output_type": "stream",
     "text": [
      "{1, 2, 3, 5, 6, 7, 8}\n"
     ]
    }
   ],
   "source": [
    "s1={1,2,3}\n",
    "s2={5,6,7,8}\n",
    "s3=s1|s2\n",
    "print(s3)"
   ]
  },
  {
   "cell_type": "code",
   "execution_count": 27,
   "id": "70b1a3f6",
   "metadata": {},
   "outputs": [
    {
     "name": "stdout",
     "output_type": "stream",
     "text": [
      "{1, 2, 3, 3.33, 5.55, 6.66, 'a', 'b', 'c'}\n"
     ]
    }
   ],
   "source": [
    "#joining Multiple sets\n",
    "s1={1,2,3}\n",
    "s2={\"a\",\"b\",\"c\"}\n",
    "s3={5.55,6.66,3.33}\n",
    "s4=s1|s2|s3\n",
    "print(s4)"
   ]
  },
  {
   "cell_type": "code",
   "execution_count": 28,
   "id": "0ddef214",
   "metadata": {},
   "outputs": [
    {
     "name": "stdout",
     "output_type": "stream",
     "text": [
      "{1, 2, 3, 5, 6, 7}\n"
     ]
    }
   ],
   "source": [
    "s1={1,2,3}\n",
    "t1=(5,6,7)\n",
    "s2=s1.union(t1)\n",
    "print(s2)"
   ]
  },
  {
   "cell_type": "markdown",
   "id": "c9128910",
   "metadata": {},
   "source": [
    "# Update\n",
    "\n",
    "**The update() method inserts all items from one set into another.\n",
    "The update() changes the original set, and does not return a new set."
   ]
  },
  {
   "cell_type": "code",
   "execution_count": 29,
   "id": "ee5e5209",
   "metadata": {},
   "outputs": [
    {
     "name": "stdout",
     "output_type": "stream",
     "text": [
      "{1, 'a', 'b', 2, 3, 'c'}\n"
     ]
    }
   ],
   "source": [
    "set1 = {\"a\", \"b\" , \"c\"}\n",
    "set2 = {1, 2, 3}\n",
    "\n",
    "set1.update(set2)\n",
    "print(set1)"
   ]
  },
  {
   "cell_type": "markdown",
   "id": "dc233cee",
   "metadata": {},
   "source": [
    "# Intersection\n",
    "\n",
    "Keep ONLY the duplicates\n",
    "\n",
    "**The intersection() method will return a new set, that only contains the items that are present in both sets.\n",
    "The & operator only allows you to join sets with sets, and not with other data types like you can with the intersection() method."
   ]
  },
  {
   "cell_type": "code",
   "execution_count": 31,
   "id": "20e254f3",
   "metadata": {},
   "outputs": [
    {
     "name": "stdout",
     "output_type": "stream",
     "text": [
      "{'apple'}\n"
     ]
    }
   ],
   "source": [
    "set1 = {\"apple\", \"banana\", \"cherry\"}\n",
    "set2 = {\"google\", \"microsoft\", \"apple\"}\n",
    "\n",
    "set3 = set1.intersection(set2)\n",
    "print(set3)"
   ]
  },
  {
   "cell_type": "code",
   "execution_count": 33,
   "id": "89151fc3",
   "metadata": {},
   "outputs": [
    {
     "name": "stdout",
     "output_type": "stream",
     "text": [
      "{3}\n"
     ]
    }
   ],
   "source": [
    "s1={1,2,3}\n",
    "s2={4,5,3,6}\n",
    "s3=s1&s2\n",
    "print(s1&s2)"
   ]
  },
  {
   "cell_type": "markdown",
   "id": "6c9b47ee",
   "metadata": {},
   "source": [
    "**The intersection_update() method will also keep ONLY the duplicates, but it will change the original set instead of returning a new set."
   ]
  },
  {
   "cell_type": "code",
   "execution_count": null,
   "id": "403b5cb3",
   "metadata": {},
   "outputs": [],
   "source": [
    "set1 = {\"apple\", \"banana\", \"cherry\"}\n",
    "set2 = {\"google\", \"microsoft\", \"apple\"}\n",
    "\n",
    "set1.intersection_update(set2)\n",
    "\n",
    "print(set1)"
   ]
  },
  {
   "cell_type": "markdown",
   "id": "4b6de56e",
   "metadata": {},
   "source": [
    "# Difference\n",
    "The difference() method will return a new set that will contain only the items from the first set that are not present in the other set."
   ]
  },
  {
   "cell_type": "code",
   "execution_count": 35,
   "id": "c37bd18a",
   "metadata": {},
   "outputs": [
    {
     "name": "stdout",
     "output_type": "stream",
     "text": [
      "{8, 9, 6, 7}\n",
      "{1, 2, 3}\n"
     ]
    }
   ],
   "source": [
    "s1={1,2,3,4,5}\n",
    "s2={4,5,6,7,8,9}\n",
    "s3=s1.difference(s2)\n",
    "print(s2.difference(s1))\n",
    "print(s3)"
   ]
  },
  {
   "cell_type": "code",
   "execution_count": 36,
   "id": "d53432d2",
   "metadata": {},
   "outputs": [
    {
     "name": "stdout",
     "output_type": "stream",
     "text": [
      "{99, 100}\n"
     ]
    }
   ],
   "source": [
    "s1={88,99,100}\n",
    "s2={6,88,9}\n",
    "s3=s1-s2\n",
    "print(s3)"
   ]
  },
  {
   "cell_type": "markdown",
   "id": "aef24d3d",
   "metadata": {},
   "source": [
    "**The difference_update() method will also keep the items from the first set that are not in the other set, but it will change the original set instead of returning a new set."
   ]
  },
  {
   "cell_type": "code",
   "execution_count": 37,
   "id": "bb67cf0f",
   "metadata": {},
   "outputs": [
    {
     "name": "stdout",
     "output_type": "stream",
     "text": [
      "{'banana', 'cherry'}\n"
     ]
    }
   ],
   "source": [
    "set1 = {\"apple\", \"banana\", \"cherry\"}\n",
    "set2 = {\"google\", \"microsoft\", \"apple\"}\n",
    "\n",
    "set1.difference_update(set2)\n",
    "\n",
    "print(set1)"
   ]
  },
  {
   "cell_type": "markdown",
   "id": "1059d72d",
   "metadata": {},
   "source": [
    "# Symmetric Differences\n",
    "The symmetric_difference() method will keep only the elements that are NOT present in both sets."
   ]
  },
  {
   "cell_type": "code",
   "execution_count": 38,
   "id": "25cb069e",
   "metadata": {},
   "outputs": [
    {
     "name": "stdout",
     "output_type": "stream",
     "text": [
      "{1, 2, 3, 6, 8, 9}\n"
     ]
    }
   ],
   "source": [
    "s1={1,2,3,4,5}\n",
    "s2={6,4,5,8,9}\n",
    "s3=s1.symmetric_difference(s2)\n",
    "print(s3)"
   ]
  },
  {
   "cell_type": "markdown",
   "id": "cfa128e8",
   "metadata": {},
   "source": [
    "# Method\tShortcut\tDescription\n",
    "\n",
    "add()\t \tAdds an element to the set\n",
    "\n",
    "clear()\t \tRemoves all the elements from the set\n",
    "\n",
    "copy()\t \tReturns a copy of the set\n",
    "\n",
    "difference()\t-\tReturns a set containing the difference between two or more sets\n",
    "\n",
    "difference_update()\t-=\tRemoves the items in this set that are also included in another, specified set\n",
    "\n",
    "discard()\t \tRemove the specified item\n",
    "\n",
    "intersection()\t&\tReturns a set, that is the intersection of two other sets\n",
    "\n",
    "intersection_update()\t&=\tRemoves the items in this set that are not present in other, specified set(s)\n",
    "\n",
    "isdisjoint()\t \tReturns whether two sets have a intersection or not\n",
    "\n",
    "issubset()\t<=\tReturns whether another set contains this set or not\n",
    "\n",
    " \t<\tReturns whether all items in this set is present in other, specified set(s)\n",
    "    \n",
    "issuperset()\t>=\tReturns whether this set contains another set or not\n",
    "\n",
    " \t>\tReturns whether all items in other, specified set(s) is present in this set\n",
    "    \n",
    "pop()\t \tRemoves an element from the set\n",
    "\n",
    "remove()\t \tRemoves the specified element\n",
    "\n",
    "symmetric_difference()\t^\tReturns a set with the symmetric differences of two sets\n",
    "\n",
    "symmetric_difference_update()\t^=\tInserts the symmetric differences from this set and another\n",
    "\n",
    "union()\t|\tReturn a set containing the union of sets\n",
    "\n",
    "update()\t|=\tUpdate the set with the union of this set and others"
   ]
  }
 ],
 "metadata": {
  "kernelspec": {
   "display_name": "Python 3 (ipykernel)",
   "language": "python",
   "name": "python3"
  },
  "language_info": {
   "codemirror_mode": {
    "name": "ipython",
    "version": 3
   },
   "file_extension": ".py",
   "mimetype": "text/x-python",
   "name": "python",
   "nbconvert_exporter": "python",
   "pygments_lexer": "ipython3",
   "version": "3.7.0"
  }
 },
 "nbformat": 4,
 "nbformat_minor": 5
}
