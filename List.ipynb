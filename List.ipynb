{
 "cells": [
  {
   "cell_type": "code",
   "execution_count": null,
   "id": "0aa9458d",
   "metadata": {},
   "outputs": [],
   "source": [
    "#list\n",
    "\n",
    "#Can store different types\n",
    "\n",
    "#we can access elements using index\n",
    "\n",
    "#enclosed between \"[]\"\n",
    "\n",
    "\n",
    "# Accessing the elements with index number,By backward direction which is ingeneral defined as (-1 to -n),where n is length of list\n",
    "\n",
    "#If a list contain another list then it is know as \"NESTED LIST\"\n",
    "\n",
    "#Allows Duplicates"
   ]
  },
  {
   "cell_type": "markdown",
   "id": "4486ef51",
   "metadata": {},
   "source": [
    "# List\n",
    "Allows Duplicates\n",
    "Allows Different Values\n",
    "It is Mutable\n",
    "List items are ordered, changeable, and allow duplicate values.\n",
    "\n",
    "List items are indexed, the first item has index [0], the second item has index [1] etc.\n",
    "\n",
    "Ordered\n",
    "When we say that lists are ordered, it means that the items have a defined order, and that order will not change.\n",
    "\n",
    "If you add new items to a list, the new items will be placed at the end of the list.\n",
    "\n",
    "##The list() Constructor\n",
    "\n",
    "It is also possible to use the list() constructor when creating a new list."
   ]
  },
  {
   "cell_type": "code",
   "execution_count": null,
   "id": "f86974b2",
   "metadata": {},
   "outputs": [],
   "source": [
    "Using Insert method with help of index we can add elements"
   ]
  },
  {
   "cell_type": "code",
   "execution_count": 1,
   "id": "d8801278",
   "metadata": {},
   "outputs": [
    {
     "name": "stdout",
     "output_type": "stream",
     "text": [
      "[1, 'kalyani', 500]\n"
     ]
    }
   ],
   "source": [
    "L=[1,\"kalyani\",500]\n",
    "print(L)"
   ]
  },
  {
   "cell_type": "code",
   "execution_count": 3,
   "id": "21e898ee",
   "metadata": {},
   "outputs": [
    {
     "name": "stdout",
     "output_type": "stream",
     "text": [
      "1\n",
      "2\n",
      "3\n",
      "4\n",
      "5\n"
     ]
    }
   ],
   "source": [
    "L=[1,2,3,4,5]\n",
    "for i in L:\n",
    "    print(i)"
   ]
  },
  {
   "cell_type": "code",
   "execution_count": 5,
   "id": "e2b5a67d",
   "metadata": {},
   "outputs": [
    {
     "name": "stdout",
     "output_type": "stream",
     "text": [
      "length is 7\n",
      "6\n"
     ]
    }
   ],
   "source": [
    "#Nested List\n",
    "y=[1,2,3,4,[0,5,6,7],9,11] #7 \n",
    "print(\"length is\",len(y))\n",
    "print(y[4][2])"
   ]
  },
  {
   "cell_type": "code",
   "execution_count": 6,
   "id": "047643be",
   "metadata": {},
   "outputs": [
    {
     "name": "stdout",
     "output_type": "stream",
     "text": [
      "[1, 2, [3, 4, 5], 6]\n",
      "4\n",
      "[3, 4, 5]\n",
      "4\n"
     ]
    }
   ],
   "source": [
    "#Basic Nested List\n",
    "my_list = [1, 2, [3, 4, 5], 6]\n",
    "print(my_list)\n",
    "print(len(my_list))\n",
    "\n",
    "\n",
    "# Access the nested list\n",
    "print(my_list[2])\n",
    "\n",
    "# Access an element within the nested list\n",
    "print(my_list[2][1])  # Output: 4"
   ]
  },
  {
   "cell_type": "code",
   "execution_count": 7,
   "id": "4401fa0e",
   "metadata": {},
   "outputs": [
    {
     "name": "stdout",
     "output_type": "stream",
     "text": [
      "['apple', 'banana', 'cherry', 'apple', 'cherry']\n"
     ]
    }
   ],
   "source": [
    "# Lists allow duplicate values\n",
    "x= [\"apple\", \"banana\", \"cherry\", \"apple\", \"cherry\"]\n",
    "print(x)"
   ]
  },
  {
   "cell_type": "markdown",
   "id": "83a93899",
   "metadata": {},
   "source": [
    "# Accessing Range of items"
   ]
  },
  {
   "cell_type": "code",
   "execution_count": 32,
   "id": "e3e9d775",
   "metadata": {},
   "outputs": [
    {
     "name": "stdout",
     "output_type": "stream",
     "text": [
      "['cherry', 'orange', 'kiwi']\n"
     ]
    }
   ],
   "source": [
    "thislist = [\"apple\", \"banana\", \"cherry\", \"orange\", \"kiwi\", \"melon\", \"mango\"]\n",
    "print(thislist[2:5])"
   ]
  },
  {
   "cell_type": "markdown",
   "id": "11ac4a89",
   "metadata": {},
   "source": [
    "# Insert Items\n",
    "To insert a new list item, without replacing any of the existing values, we can use the insert() method.\n",
    "\n",
    "The insert() method inserts an item at the specified index"
   ]
  },
  {
   "cell_type": "code",
   "execution_count": 17,
   "id": "ce8410b1",
   "metadata": {},
   "outputs": [
    {
     "name": "stdout",
     "output_type": "stream",
     "text": [
      "['watermelon', 'apple', 'banana', 'cherry']\n"
     ]
    }
   ],
   "source": [
    "x = [\"apple\", \"banana\", \"cherry\"]\n",
    "x.insert(-3, \"watermelon\")\n",
    "print(x)"
   ]
  },
  {
   "cell_type": "markdown",
   "id": "0fded1f3",
   "metadata": {},
   "source": [
    "# Changing range of values using slicing"
   ]
  },
  {
   "cell_type": "code",
   "execution_count": null,
   "id": "fe6eff05",
   "metadata": {},
   "outputs": [],
   "source": [
    "thislist = [\"apple\", \"banana\", \"cherry\", \"orange\", \"kiwi\", \"mango\"]\n",
    "thislist[1:3] = [\"blackcurrant\", \"watermelon\"]\n",
    "print(thislist)"
   ]
  },
  {
   "cell_type": "markdown",
   "id": "9afb052a",
   "metadata": {},
   "source": [
    "# Python - Add List Items\n",
    "To add an item to the end of the list, use the append() method"
   ]
  },
  {
   "cell_type": "code",
   "execution_count": 18,
   "id": "a313fc25",
   "metadata": {},
   "outputs": [
    {
     "name": "stdout",
     "output_type": "stream",
     "text": [
      "['apple', 'banana', 'cherry', '122452']\n"
     ]
    }
   ],
   "source": [
    "t = [\"apple\", \"banana\", \"cherry\"]\n",
    "t.append(\"122452\")\n",
    "print(t)"
   ]
  },
  {
   "cell_type": "markdown",
   "id": "b000e3b8",
   "metadata": {},
   "source": [
    "# Extend List\n",
    "To append elements from another list to the current list, use the extend() method."
   ]
  },
  {
   "cell_type": "code",
   "execution_count": 19,
   "id": "27cfd8ae",
   "metadata": {},
   "outputs": [
    {
     "name": "stdout",
     "output_type": "stream",
     "text": [
      "['mango', 'pineapple', 'papaya', 'apple', 'banana', 'cherry']\n"
     ]
    }
   ],
   "source": [
    "x = [\"apple\", \"banana\", \"cherry\"]\n",
    "y = [\"mango\", \"pineapple\", \"papaya\"]\n",
    "y.extend(x)\n",
    "print(y)"
   ]
  },
  {
   "cell_type": "markdown",
   "id": "6cf9ac76",
   "metadata": {},
   "source": [
    "# Add Any Iterable\n",
    "The extend() method does not have to append lists, you can add any iterable object (tuples, sets, dictionaries etc.)."
   ]
  },
  {
   "cell_type": "code",
   "execution_count": 23,
   "id": "4f1e4021",
   "metadata": {},
   "outputs": [
    {
     "name": "stdout",
     "output_type": "stream",
     "text": [
      "List using Tuple\n",
      "[1, 2, 3, 4, 5, 6]\n",
      "List Using Set\n",
      "[1, 2, 3, 8, 9, 7]\n",
      "List using dictionary\n",
      "[1, 2, 3, 'a', 'b']\n"
     ]
    }
   ],
   "source": [
    "print(\"List using Tuple\")\n",
    "my_list = [1, 2, 3]\n",
    "my_tuple = (4, 5, 6)\n",
    "my_list.extend(my_tuple)\n",
    "print(my_list)  # Output: [1, 2, 3, 4, 5, 6]\n",
    "print(\"List Using Set\")\n",
    "my_list1 = [1, 2, 3]\n",
    "my_set = {7, 8, 9}\n",
    "my_list1.extend(my_set)\n",
    "print(my_list1)  # Output: [1, 2, 3, 7, 8, 9]\n",
    "print(\"List using dictionary\")\n",
    "#When extending with a dictionary, only the dictionary’s keys are added to the list.\n",
    "my_list2 = [1, 2, 3]\n",
    "my_dict = {'a': 10, 'b': 20}\n",
    "my_list2.extend(my_dict)\n",
    "print(my_list2)  # Output: [1, 2, 3, 'a', 'b']"
   ]
  },
  {
   "cell_type": "markdown",
   "id": "bbfd7b3c",
   "metadata": {},
   "source": [
    "# extend() vs append():\n",
    "\n",
    "extend() adds each element of the iterable to the list, whereas append() adds the iterable itself as a single element to the list."
   ]
  },
  {
   "cell_type": "code",
   "execution_count": 24,
   "id": "b5f9bb44",
   "metadata": {},
   "outputs": [
    {
     "name": "stdout",
     "output_type": "stream",
     "text": [
      "[1, 2, 3, (4, 5, 6)]\n",
      "<class 'list'>\n",
      "[1, 2, 3, 4, 5, 6]\n"
     ]
    }
   ],
   "source": [
    "my_list = [1, 2, 3]\n",
    "my_tuple = (4, 5, 6)\n",
    "\n",
    "my_list.append(my_tuple)\n",
    "print(my_list)  # Output: [1, 2, 3, (4, 5, 6)]\n",
    "print(type(my_list))\n",
    "\n",
    "my_list = [1, 2, 3]\n",
    "my_list.extend(my_tuple)\n",
    "print(my_list)  # Output: [1, 2, 3, 4, 5, 6]"
   ]
  },
  {
   "cell_type": "markdown",
   "id": "955f1b2e",
   "metadata": {},
   "source": [
    "# Python - Remove List Items\n",
    "The remove() method removes the specified item."
   ]
  },
  {
   "cell_type": "code",
   "execution_count": 27,
   "id": "e32ffba0",
   "metadata": {},
   "outputs": [
    {
     "name": "stdout",
     "output_type": "stream",
     "text": [
      "[1, 2, 3, 5]\n"
     ]
    }
   ],
   "source": [
    "l1=[1,2,3,4,5]\n",
    "l1.remove(4)\n",
    "print(l1)"
   ]
  },
  {
   "cell_type": "markdown",
   "id": "c90421d9",
   "metadata": {},
   "source": [
    "# Remove Specified Index\n",
    "The pop() method removes the specified index."
   ]
  },
  {
   "cell_type": "code",
   "execution_count": 30,
   "id": "d23df0c7",
   "metadata": {},
   "outputs": [
    {
     "name": "stdout",
     "output_type": "stream",
     "text": [
      "['apple', 'cherry']\n"
     ]
    }
   ],
   "source": [
    "x = [\"apple\", \"banana\", \"cherry\"]\n",
    "x.pop(1)\n",
    "print(x)"
   ]
  },
  {
   "cell_type": "markdown",
   "id": "ad77583c",
   "metadata": {},
   "source": [
    "# The del keyword also removes the specified index:\n",
    "The del keyword can also delete the list completely.\n"
   ]
  },
  {
   "cell_type": "code",
   "execution_count": 33,
   "id": "b08b4285",
   "metadata": {},
   "outputs": [
    {
     "name": "stdout",
     "output_type": "stream",
     "text": [
      "['banana', 'cherry']\n"
     ]
    }
   ],
   "source": [
    "thislist = [\"apple\", \"banana\", \"cherry\"]\n",
    "del thislist[0]\n",
    "print(thislist)"
   ]
  },
  {
   "cell_type": "code",
   "execution_count": 34,
   "id": "2bded720",
   "metadata": {},
   "outputs": [],
   "source": [
    "thislist = [\"apple\", \"banana\", \"cherry\"]\n",
    "del thislist"
   ]
  },
  {
   "cell_type": "markdown",
   "id": "d848b1de",
   "metadata": {},
   "source": [
    "# Clear the List\n",
    "The clear() method empties the list.\n",
    "\n",
    "The list still remains, but it has no content."
   ]
  },
  {
   "cell_type": "code",
   "execution_count": 31,
   "id": "ad24484d",
   "metadata": {},
   "outputs": [
    {
     "name": "stdout",
     "output_type": "stream",
     "text": [
      "[]\n"
     ]
    }
   ],
   "source": [
    "x = [\"apple\", \"banana\", \"cherry\"]\n",
    "x.clear()\n",
    "print(x)"
   ]
  },
  {
   "cell_type": "code",
   "execution_count": null,
   "id": "1954ce43",
   "metadata": {},
   "outputs": [],
   "source": []
  },
  {
   "cell_type": "markdown",
   "id": "af63c2af",
   "metadata": {},
   "source": [
    "# List Comprehension\n",
    "List comprehension offers a shorter syntax when you want to create a new list based on the values of an existing list.\n",
    "\n",
    "Example:\n",
    "\n",
    "Based on a list of fruits, you want a new list, containing only the fruits with the letter \"a\" in the name.\n",
    "\n",
    "Without list comprehension you will have to write a for statement with a conditional test inside:"
   ]
  },
  {
   "cell_type": "code",
   "execution_count": 35,
   "id": "60c147da",
   "metadata": {},
   "outputs": [
    {
     "name": "stdout",
     "output_type": "stream",
     "text": [
      "['apple', 'banana', 'mango']\n"
     ]
    }
   ],
   "source": [
    "fruits = [\"apple\", \"banana\", \"cherry\", \"kiwi\", \"mango\"]\n",
    "\n",
    "newlist = [x for x in fruits if \"a\" in x]\n",
    "\n",
    "print(newlist)"
   ]
  },
  {
   "cell_type": "markdown",
   "id": "da082029",
   "metadata": {},
   "source": [
    "# Sorting"
   ]
  },
  {
   "cell_type": "code",
   "execution_count": 36,
   "id": "98344023",
   "metadata": {},
   "outputs": [
    {
     "name": "stdout",
     "output_type": "stream",
     "text": [
      "['banana', 'kiwi', 'mango', 'orange', 'pineapple']\n"
     ]
    }
   ],
   "source": [
    "thislist = [\"orange\", \"mango\", \"kiwi\", \"pineapple\", \"banana\"]\n",
    "thislist.sort()#Ascending\n",
    "print(thislist)"
   ]
  },
  {
   "cell_type": "code",
   "execution_count": 37,
   "id": "07bb933f",
   "metadata": {},
   "outputs": [
    {
     "name": "stdout",
     "output_type": "stream",
     "text": [
      "['pineapple', 'orange', 'mango', 'kiwi', 'banana']\n"
     ]
    }
   ],
   "source": [
    "thislist = [\"orange\", \"mango\", \"kiwi\", \"pineapple\", \"banana\"]\n",
    "thislist.sort(reverse=True)#Descending\n",
    "print(thislist)"
   ]
  },
  {
   "cell_type": "markdown",
   "id": "10762c18",
   "metadata": {},
   "source": [
    "# Join The Lists"
   ]
  },
  {
   "cell_type": "code",
   "execution_count": 38,
   "id": "a87fdcad",
   "metadata": {},
   "outputs": [
    {
     "name": "stdout",
     "output_type": "stream",
     "text": [
      "['a', 'b', 'c', 1, 2, 3]\n"
     ]
    }
   ],
   "source": [
    "#Join two list:\n",
    "\n",
    "list1 = [\"a\", \"b\", \"c\"]\n",
    "list2 = [1, 2, 3]\n",
    "\n",
    "list3 = list1 + list2\n",
    "print(list3)"
   ]
  },
  {
   "cell_type": "markdown",
   "id": "6858cb08",
   "metadata": {},
   "source": [
    "# Copy List"
   ]
  },
  {
   "cell_type": "code",
   "execution_count": 40,
   "id": "2c2a8762",
   "metadata": {},
   "outputs": [
    {
     "name": "stdout",
     "output_type": "stream",
     "text": [
      "['apple', 'banana', 'cherry']\n",
      "['apple', 'banana', 'cherry', 9]\n",
      "['apple', 'banana', 'cherry']\n"
     ]
    }
   ],
   "source": [
    "thislist = [\"apple\", \"banana\", \"cherry\"]\n",
    "mylist = thislist.copy()\n",
    "print(mylist)\n",
    "thislist.append(9)\n",
    "print(thislist)\n",
    "print(mylist)"
   ]
  },
  {
   "cell_type": "markdown",
   "id": "d27b0c7f",
   "metadata": {},
   "source": [
    "# Method\tDescription\n",
    "append()\tAdds an element at the end of the list\n",
    "\n",
    "clear()\tRemoves all the elements from the list\n",
    "\n",
    "copy()\tReturns a copy of the list\n",
    "\n",
    "count()\tReturns the number of elements with the specified value\n",
    "\n",
    "extend()\tAdd the elements of a list (or any iterable), to the end of the current list\n",
    "\n",
    "index()\tReturns the index of the first element with the specified value\n",
    "\n",
    "insert()\tAdds an element at the specified position\n",
    "\n",
    "pop()\tRemoves the element at the specified position\n",
    "\n",
    "remove()\tRemoves the item with the specified value\n",
    "\n",
    "reverse()\tReverses the order of the list\n",
    "\n",
    "sort()\tSorts the list\n"
   ]
  }
 ],
 "metadata": {
  "kernelspec": {
   "display_name": "Python 3 (ipykernel)",
   "language": "python",
   "name": "python3"
  },
  "language_info": {
   "codemirror_mode": {
    "name": "ipython",
    "version": 3
   },
   "file_extension": ".py",
   "mimetype": "text/x-python",
   "name": "python",
   "nbconvert_exporter": "python",
   "pygments_lexer": "ipython3",
   "version": "3.7.0"
  }
 },
 "nbformat": 4,
 "nbformat_minor": 5
}
