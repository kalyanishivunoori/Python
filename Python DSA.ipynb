{
 "cells": [
  {
   "cell_type": "code",
   "execution_count": 3,
   "id": "e32681e0",
   "metadata": {
    "scrolled": true
   },
   "outputs": [
    {
     "name": "stdout",
     "output_type": "stream",
     "text": [
      "[['eat', 'tea', 'ate'], ['tan', 'nat', 'ant'], ['bat', 'tab']]\n"
     ]
    }
   ],
   "source": [
    "def group_of_anagrams(words):\n",
    "    anagrams = {}\n",
    "    for i in words:\n",
    "        sorted_word = ''.join(sorted(i))\n",
    "        if sorted_word not in anagrams:\n",
    "            anagrams[sorted_word] = []\n",
    "        anagrams[sorted_word].append(i)\n",
    "    return list(anagrams.values())\n",
    "\n",
    "words = ['eat', 'tea', 'tan', 'ate', 'nat', 'bat','ant','tab']\n",
    "output = group_of_anagrams(words)\n",
    "print(output)"
   ]
  },
  {
   "cell_type": "code",
   "execution_count": 6,
   "id": "15513911",
   "metadata": {},
   "outputs": [
    {
     "name": "stdout",
     "output_type": "stream",
     "text": [
      "In-order Traversal:\n",
      "45 25 55 10 65 35 75 \n",
      "Pre-order Traversal:\n",
      "10 25 45 55 35 65 75 \n",
      "Post-order Traversal:\n",
      "45 55 25 65 75 35 10 "
     ]
    }
   ],
   "source": [
    "class TreeNode:\n",
    "    def __init__(self, value=0, left=None, right=None):\n",
    "        self.value = value\n",
    "        self.left = left\n",
    "        self.right = right\n",
    "\n",
    "def inorder(node):\n",
    "    if node is not None:\n",
    "        inorder(node.left)\n",
    "        print(node.value, end=' ')\n",
    "        inorder(node.right)\n",
    "\n",
    "def preorder(node):\n",
    "    if node is not None:\n",
    "        print(node.value, end=' ')\n",
    "        preorder(node.left)\n",
    "        preorder(node.right)\n",
    "def postorder(node):\n",
    "    if node is not None:\n",
    "        postorder(node.left)\n",
    "        postorder(node.right)\n",
    "        print(node.value, end=' ')\n",
    "\n",
    "\n",
    "root = TreeNode(10)\n",
    "root.left = TreeNode(25)\n",
    "root.right = TreeNode(35)\n",
    "root.left.left = TreeNode(45)\n",
    "root.left.right = TreeNode(55)\n",
    "root.right.left = TreeNode(65)\n",
    "root.right.right = TreeNode(75)\n",
    "\n",
    "print(\"In-order Traversal:\")\n",
    "inorder(root)\n",
    "print(\"\\nPre-order Traversal:\")\n",
    "preorder(root)\n",
    "print(\"\\nPost-order Traversal:\")\n",
    "postorder(root)"
   ]
  },
  {
   "cell_type": "code",
   "execution_count": 9,
   "id": "088058e1",
   "metadata": {
    "scrolled": true
   },
   "outputs": [
    {
     "name": "stdout",
     "output_type": "stream",
     "text": [
      "SORTED list [1, 4, 5, 6, 7, 11, 12, 12, 17, 18]\n"
     ]
    }
   ],
   "source": [
    "list =[12, 5, 7, 18, 11, 6, 12, 4, 17, 1]                                                   \n",
    "for i in range(len(list)):    \n",
    "        for j in range(0, len(list)-i-1):\n",
    "            if list[j] > list[j+1]:               \n",
    "                list[j], list[j+1] = list[j+1], list[j]  \n",
    "print(\"SORTED list\",list)"
   ]
  },
  {
   "cell_type": "code",
   "execution_count": 10,
   "id": "1e31ed20",
   "metadata": {},
   "outputs": [
    {
     "name": "stdout",
     "output_type": "stream",
     "text": [
      "Sorted  list using Bubblesort [1, 4, 5, 6, 7, 11, 12, 12, 17, 18]\n"
     ]
    }
   ],
   "source": [
    "def bubblesort(list):\n",
    "    n=len(list)\n",
    "    for i in range(n):\n",
    "        for j in range(0,n-i-1):\n",
    "            if list[j] > list[j+1]:               \n",
    "                list[j], list[j+1] = list[j+1], list[j] \n",
    "    return list\n",
    "list=[12, 5, 7, 18, 11, 6, 12, 4, 17, 1]   \n",
    "print(\"Sorted  list using Bubblesort\",bubblesort(list))"
   ]
  },
  {
   "cell_type": "code",
   "execution_count": 12,
   "id": "5c057d61",
   "metadata": {
    "scrolled": true
   },
   "outputs": [
    {
     "name": "stdout",
     "output_type": "stream",
     "text": [
      "(True, 3)\n"
     ]
    }
   ],
   "source": [
    "def linear(a, search):\n",
    "    for i in range(len(a)):\n",
    "        if a[i] == search:\n",
    "            return (True, i)\n",
    "    return (False, -1)\n",
    "a = [11, 23, 58, 31, 56, 77, 43, 12, 65, 19]\n",
    "search= 31\n",
    "result = linear(a, search)\n",
    "print(result)"
   ]
  },
  {
   "cell_type": "code",
   "execution_count": null,
   "id": "f435c5d1",
   "metadata": {},
   "outputs": [],
   "source": []
  }
 ],
 "metadata": {
  "kernelspec": {
   "display_name": "Python 3 (ipykernel)",
   "language": "python",
   "name": "python3"
  },
  "language_info": {
   "codemirror_mode": {
    "name": "ipython",
    "version": 3
   },
   "file_extension": ".py",
   "mimetype": "text/x-python",
   "name": "python",
   "nbconvert_exporter": "python",
   "pygments_lexer": "ipython3",
   "version": "3.7.0"
  }
 },
 "nbformat": 4,
 "nbformat_minor": 5
}
