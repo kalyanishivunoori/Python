{
 "cells": [
  {
   "cell_type": "markdown",
   "id": "a71b6b60",
   "metadata": {},
   "source": [
    "# KALYANI SHIVUNOORI\n",
    "# Roll No:198"
   ]
  },
  {
   "cell_type": "markdown",
   "id": "1cb26f75",
   "metadata": {},
   "source": [
    "# 1. Write a program that takes a number N as input from the user and prints pascal's triangle of N height/steps.\n",
    "\n",
    "Pascal's triangle is a triangular array constructed by summing adjacent elements in preceding rows.\n",
    "\n",
    "For example if N = 4\n",
    "\n",
    "     1\n",
    "    1 1\n",
    "   1 2 1\n",
    "  1 3 3 1"
   ]
  },
  {
   "cell_type": "code",
   "execution_count": 7,
   "id": "dd3b5b01",
   "metadata": {},
   "outputs": [
    {
     "name": "stdout",
     "output_type": "stream",
     "text": [
      "5\n",
      "     1\n",
      "    1 1\n",
      "   1 2 1\n",
      "  1 3 3 1\n",
      " 1 4 6 4 1\n"
     ]
    }
   ],
   "source": [
    "n=int(input())\n",
    "for i in range(n):\n",
    "     print(\" \"*(4-i),end=\" \")\n",
    "     print(\" \".join(str(11**i)))"
   ]
  },
  {
   "cell_type": "markdown",
   "id": "38f2b931",
   "metadata": {},
   "source": [
    "# 2.Write a program that keeps taking user input for password until 'Enter' key is pressed and then checks password with following validation:\n",
    "\n",
    "At least 9 characters\n",
    "\n",
    "Contains 1 uppercase and 1 lowercase letter at least\n",
    "\n",
    "Contains one number at least\n",
    "\n",
    "Contains one special character at least and it should be one of the allowed special characters [$,_, %]\n",
    "\n",
    "If password is incorrect show related error else show a success message."
   ]
  },
  {
   "cell_type": "code",
   "execution_count": 22,
   "id": "aeed28e7",
   "metadata": {},
   "outputs": [
    {
     "name": "stdout",
     "output_type": "stream",
     "text": [
      "Enter Kalyani%03\n",
      "success\n"
     ]
    }
   ],
   "source": [
    "lower=0\n",
    "upper=0\n",
    "numeric=0\n",
    "specialchar=['$','_',\"%\"]\n",
    "countspecial=0\n",
    "while 1:\n",
    "    s=input(\"Enter \")\n",
    "    for a in s:\n",
    "        if a.islower():\n",
    "            lower +=1\n",
    "        if a.isupper():\n",
    "            upper +=1\n",
    "        if a.isnumeric():\n",
    "            numeric +=1\n",
    "        if a in specialchar:\n",
    "            countspecial +=1\n",
    "    if (lower and upper and  numeric and countspecial and len(s)>=9):\n",
    "            print(\"success\")\n",
    "            break\n",
    "    else:\n",
    "            pass\n",
    "\n",
    "        \n",
    "    "
   ]
  },
  {
   "cell_type": "code",
   "execution_count": 1,
   "id": "b2a18fce",
   "metadata": {},
   "outputs": [
    {
     "name": "stdout",
     "output_type": "stream",
     "text": [
      "Kalyani@03\n",
      "success\n"
     ]
    }
   ],
   "source": [
    "import re\n",
    "while 1:\n",
    "    s=input()\n",
    "    pattern= r\"(?=.*[a-z])(?=.*[A-Z])(?=.*\\d)(?=.*[^a-zA-Z0-9]).{9,}$\"\n",
    "    match = re.search(pattern, s)\n",
    "    if match:\n",
    "        print(\"success\")\n",
    "        break\n",
    "    else:\n",
    "        pass\n"
   ]
  },
  {
   "cell_type": "markdown",
   "id": "edeea336",
   "metadata": {},
   "source": [
    "# 3 Create a database named \"employee_management\" and create following tables:\n",
    "\n",
    "Employee: Employee id, Name, DoB, Salary, Department_id\n",
    "\n",
    "Department: Department id, HOD Name (Note: head of department, will be one of the employees)\n"
   ]
  },
  {
   "cell_type": "markdown",
   "id": "cbea7a52",
   "metadata": {},
   "source": [
    "Use employee_management;\n",
    "create table employee(Employee_id int auto_increment   primary key, name varchar(9),Dob date, salary decimal(10,2), Department_id int);\n",
    "select*from Employee;\n",
    "INSERT INTO Employee (Name, DoB, Salary, Department_id) VALUES \n",
    "    ('Ramya', '1980-01-01', 100000, 1),  -- HOD\n",
    "    ('Jevana', '1985-01-01', 45000, 1), \n",
    "    ('Bhavya', '1990-01-01', 40000, 1), \n",
    "    ('Anitha', '1995-01-01', 35000, 1), \n",
    "    ('Manjula', '2000-01-01', 30000, 1),\n",
    "    ('Ramani', '1980-01-01', 50000, 2),   -- HOD\n",
    "    ('Saritha', '1985-01-01', 45000, 2), \n",
    "    ('Raju', '1990-01-01', 40000, 2), \n",
    "    ('Raames', '1995-01-01', 35000, 2), \n",
    "    ('Deepthi', '2000-01-01', 30000, 2),\n",
    "    ('Gouri', '1980-01-01', 50000, 3),  -- HOD\n",
    "    ('Sitha', '1985-01-01', 45000, 3), \n",
    "    ('Bhanu', '1990-01-01', 40000, 3), \n",
    "    ('Krishna', '1995-01-01', 35000, 3), \n",
    "    ('Madhu', '2000-01-01', 30000, 3),\n",
    "    ('Nayna', '1985-01-01', 100000, 4),  -- HOD\n",
    "    ('Varun', '1985-01-01', 45000, 4), \n",
    "    ('laxman', '1990-01-01', 40000, 4), \n",
    "    ('Vamshi', '1995-01-01', 35000, 4), \n",
    "    ('akshay', '2000-01-01', 30000, 4);\n",
    "    select*from Employement;"
   ]
  },
  {
   "cell_type": "code",
   "execution_count": 5,
   "id": "16f15130",
   "metadata": {},
   "outputs": [
    {
     "name": "stdout",
     "output_type": "stream",
     "text": [
      "    Employee_id     name         Dob    salary  Department_id\n",
      "0             1    Ramya  1980-01-01  100000.0              1\n",
      "1             2   Jevana  1985-01-01   45000.0              1\n",
      "2             3   Bhavya  1990-01-01   40000.0              1\n",
      "3             4   Anitha  1995-01-01   35000.0              1\n",
      "4             5  Manjula  2000-01-01   30000.0              1\n",
      "5             6   Ramani  1980-01-01   50000.0              2\n",
      "6             7  Saritha  1985-01-01   45000.0              2\n",
      "7             8     Raju  1990-01-01   40000.0              2\n",
      "8             9   Raames  1995-01-01   35000.0              2\n",
      "9            10  Deepthi  2000-01-01   30000.0              2\n",
      "10           11    Gouri  1980-01-01   50000.0              3\n",
      "11           12    Sitha  1985-01-01   45000.0              3\n",
      "12           13    Bhanu  1990-01-01   40000.0              3\n",
      "13           14  Krishna  1995-01-01   35000.0              3\n",
      "14           15    Madhu  2000-01-01   30000.0              3\n",
      "15           16    Nayna  1985-01-01  100000.0              4\n",
      "16           17    Varun  1985-01-01   45000.0              4\n",
      "17           18   laxman  1990-01-01   40000.0              4\n",
      "18           19   Vamshi  1995-01-01   35000.0              4\n",
      "19           20   akshay  2000-01-01   30000.0              4\n"
     ]
    }
   ],
   "source": [
    "import pandas as pd\n",
    "\n",
    "df = pd.read_csv(r'E:\\hope-python\\employ.csv')\n",
    "print(df)\n"
   ]
  },
  {
   "cell_type": "markdown",
   "id": "698571cf",
   "metadata": {},
   "source": [
    "# Q.1> Apply constraints on the table such that we cannot make an entry to the department table with an employee id that doesn't exist in the Employee table\n"
   ]
  },
  {
   "cell_type": "markdown",
   "id": "caa851ce",
   "metadata": {},
   "source": [
    "  CREATE TABLE Department (\n",
    "    Department_id INT AUTO_INCREMENT PRIMARY KEY,  \n",
    "    HOD_id INT,                                    \n",
    "    Department_name VARCHAR(50),                   \n",
    "    FOREIGN KEY (HOD_id) REFERENCES Employee(Employee_id)  \n",
    ");\n",
    "\n",
    "\n",
    "INSERT INTO Department (HOD_id, Department_name)\n",
    "VALUES\n",
    "    (1, 'HR'),         -- Ramya is HOD (Employee_id 1)\n",
    "    (6, 'Finance'),     -- Ramani is HOD (Employee_id 6)\n",
    "    (11, 'Marketing'),  -- Gouri is HOD (Employee_id 11)\n",
    "    (16, 'IT');         -- Nayna is HOD (Employee_id 16)\n",
    "\n",
    "select*from Department;"
   ]
  },
  {
   "cell_type": "code",
   "execution_count": 9,
   "id": "1e337005",
   "metadata": {},
   "outputs": [
    {
     "name": "stdout",
     "output_type": "stream",
     "text": [
      "   Department_id  HOD_id Department_name\n",
      "0              1       1              HR\n",
      "1              2       6         Finance\n",
      "2              3      11       Marketing\n",
      "3              4      16              IT\n"
     ]
    }
   ],
   "source": [
    "import pandas as pd\n",
    "\n",
    "df = pd.read_csv(r'E:\\hope-python\\department.csv')\n",
    "print(df)\n"
   ]
  },
  {
   "cell_type": "markdown",
   "id": "32f60490",
   "metadata": {},
   "source": [
    "# Q.2> Write a query to get average salary of employees grouped by their department and show along with department name\n"
   ]
  },
  {
   "cell_type": "markdown",
   "id": "36cd8bb5",
   "metadata": {},
   "source": [
    "select department.department_name, avg(salary)  from employee join department on employee.department_id=department.department_id group by(department_name);"
   ]
  },
  {
   "cell_type": "code",
   "execution_count": 8,
   "id": "a9b5e67f",
   "metadata": {},
   "outputs": [
    {
     "name": "stdout",
     "output_type": "stream",
     "text": [
      "  department_name  avg(salary)\n",
      "0              HR      50000.0\n",
      "1         Finance      40000.0\n",
      "2       Marketing      40000.0\n",
      "3              IT      50000.0\n"
     ]
    }
   ],
   "source": [
    "import pandas as pd\n",
    "\n",
    "df = pd.read_csv(r'E:\\hope-python\\depavgsalary.csv')\n",
    "print(df)\n"
   ]
  },
  {
   "cell_type": "markdown",
   "id": "a03492cf",
   "metadata": {},
   "source": [
    "# Q.3> Write a query to get the list of HODs whose salary is greater than average salary of HODs"
   ]
  },
  {
   "cell_type": "markdown",
   "id": "eb58c443",
   "metadata": {},
   "source": [
    "SELECT e.name, d.hod_id, e.salary \n",
    "FROM Department d\n",
    "JOIN Employemee e ON d.hod_id = e.employee_id\n",
    "WHERE e.salary > (SELECT AVG(emp.salary) \n",
    "                  FROM Department dep \n",
    "                  JOIN Employement emp ON dep.hod_id = emp.employee_id);"
   ]
  },
  {
   "cell_type": "code",
   "execution_count": 6,
   "id": "90477a12",
   "metadata": {},
   "outputs": [
    {
     "name": "stdout",
     "output_type": "stream",
     "text": [
      "    name  hod_id    salary\n",
      "0  Ramya       1  100000.0\n",
      "1  Nayna      16  100000.0\n"
     ]
    }
   ],
   "source": [
    "import pandas as pd\n",
    "\n",
    "df = pd.read_csv(r'E:\\hope-python\\hodsalary.csv')\n",
    "print(df)\n"
   ]
  },
  {
   "cell_type": "markdown",
   "id": "39065acd",
   "metadata": {},
   "source": [
    "# Q.4> Write a query to get the names of youngest and oldest HOD along with their age"
   ]
  },
  {
   "cell_type": "markdown",
   "id": "0401e0ec",
   "metadata": {},
   "source": [
    "(SELECT \n",
    "e.name AS HOD_Name, d.hod_id,TIMESTAMPDIFF(YEAR, e.dob, CURDATE()) AS Age\n",
    "FROM Department d\n",
    "JOIN Employee e ON d.hod_id = e.employee_id\n",
    "ORDER BY Age ASC\n",
    "    LIMIT 1\n",
    ")\n",
    "UNION ALL\n",
    "(\n",
    "SELECT \n",
    "e.name AS HOD_Name, d.hod_id,TIMESTAMPDIFF(YEAR, e.dob, CURDATE()) AS Age\n",
    "FROM Department d\n",
    "JOIN Employemee e ON d.hod_id = e.employee_id\n",
    "ORDER BY Age DESC\n",
    "LIMIT 1\n",
    ");"
   ]
  },
  {
   "cell_type": "code",
   "execution_count": 7,
   "id": "eb7dd915",
   "metadata": {},
   "outputs": [
    {
     "name": "stdout",
     "output_type": "stream",
     "text": [
      "  HOD_Name  hod_id  Age\n",
      "0    Nayna      16   39\n",
      "1    Ramya       1   44\n"
     ]
    }
   ],
   "source": [
    "import pandas as pd\n",
    "\n",
    "df = pd.read_csv(r'E:\\hope-python\\youngold.csv')\n",
    "print(df)\n"
   ]
  },
  {
   "cell_type": "markdown",
   "id": "5c97c92e",
   "metadata": {},
   "source": [
    "# Q.5> Write a query to get the list of departments where HODs earn at least twice the average salary of the other employees in that department."
   ]
  },
  {
   "cell_type": "markdown",
   "id": "789a4da8",
   "metadata": {},
   "source": [
    "SELECT \n",
    "    d.Department_name\n",
    "FROM \n",
    "    Department d\n",
    "JOIN \n",
    "    Employemee AS HOD ON d.HOD_id = HOD.Employee_id  -- Join to get HOD details\n",
    "JOIN \n",
    "    Employemee AS Emp ON d.Department_id = Emp.Department_id  -- Join to get all employees in the department\n",
    "GROUP BY \n",
    "    d.Department_name, HOD.salary  -- Group by department name and HOD's salary\n",
    "HAVING \n",
    "    HOD.salary >= 2 * AVG(Emp.Salary);"
   ]
  },
  {
   "cell_type": "code",
   "execution_count": 10,
   "id": "7414d37e",
   "metadata": {},
   "outputs": [
    {
     "name": "stdout",
     "output_type": "stream",
     "text": [
      "  Department_name\n",
      "0              HR\n",
      "1              IT\n"
     ]
    }
   ],
   "source": [
    "import pandas as pd\n",
    "\n",
    "df = pd.read_csv(r'E:\\hope-python\\hod-2avg.csv')\n",
    "print(df)\n"
   ]
  }
 ],
 "metadata": {
  "kernelspec": {
   "display_name": "Python 3 (ipykernel)",
   "language": "python",
   "name": "python3"
  },
  "language_info": {
   "codemirror_mode": {
    "name": "ipython",
    "version": 3
   },
   "file_extension": ".py",
   "mimetype": "text/x-python",
   "name": "python",
   "nbconvert_exporter": "python",
   "pygments_lexer": "ipython3",
   "version": "3.7.0"
  }
 },
 "nbformat": 4,
 "nbformat_minor": 5
}
