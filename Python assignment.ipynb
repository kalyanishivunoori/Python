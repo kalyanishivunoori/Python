{
 "cells": [
  {
   "cell_type": "markdown",
   "id": "eaee0cab",
   "metadata": {},
   "source": [
    "KALYANI SHIVUNOORI"
   ]
  },
  {
   "cell_type": "markdown",
   "id": "f6e78f65",
   "metadata": {},
   "source": [
    "# INT"
   ]
  },
  {
   "cell_type": "code",
   "execution_count": 1,
   "id": "a15d454e",
   "metadata": {},
   "outputs": [
    {
     "name": "stdout",
     "output_type": "stream",
     "text": [
      "enter a Number2\n",
      "even Number\n"
     ]
    }
   ],
   "source": [
    "# 1\n",
    "#even or odd\n",
    "a=int(input(\"enter a Number\"))\n",
    "if a%2==0:\n",
    "    print(\"even Number\")\n",
    "else:\n",
    "    print(\"odd Number\")"
   ]
  },
  {
   "cell_type": "code",
   "execution_count": 2,
   "id": "76defd0e",
   "metadata": {},
   "outputs": [
    {
     "name": "stdout",
     "output_type": "stream",
     "text": [
      "enter a Number5\n",
      "120\n"
     ]
    }
   ],
   "source": [
    "#2\n",
    "#Factorial of a given Number\n",
    "def factorial(n):\n",
    "    if n==0:\n",
    "        return 1\n",
    "    return n*factorial(n-1)\n",
    "    \n",
    "b=int(input(\"enter a Number\"))\n",
    "print(factorial(b))\n",
    "    "
   ]
  },
  {
   "cell_type": "code",
   "execution_count": 3,
   "id": "92e049f3",
   "metadata": {},
   "outputs": [
    {
     "name": "stdout",
     "output_type": "stream",
     "text": [
      "Enter a number98\n",
      "Enter a number56\n",
      "14\n"
     ]
    }
   ],
   "source": [
    "#3\n",
    "## GCD of two Numbers\n",
    "def gcd(a,b):\n",
    "    if b==0:\n",
    "        return a\n",
    "    elif a==0:\n",
    "        return b\n",
    "    else:\n",
    "        return gcd(b, a%b)\n",
    "a=int(input(\"Enter a number\"))\n",
    "b=int(input(\"Enter a number\"))\n",
    "print(gcd(a,b))"
   ]
  },
  {
   "cell_type": "markdown",
   "id": "4938fbd6",
   "metadata": {},
   "source": [
    "# STRING\n",
    "4.string: Write a Python program to reverse a string without using slicing.\n",
    "\n",
    "5.string: Write a Python program to count the frequency of each character in a string.\n",
    "\n",
    "6.string: Write a program to check if a given string is a palindrome.\n",
    "\n",
    "7.string: Write a program to replace all occurrences of a substring in a string.\n",
    "\n",
    "8.string: Write a Python program to find all substrings of a given string."
   ]
  },
  {
   "cell_type": "code",
   "execution_count": 4,
   "id": "5ee0adf6",
   "metadata": {},
   "outputs": [
    {
     "name": "stdout",
     "output_type": "stream",
     "text": [
      "enter a stringkalyani\n",
      "inaylak\n"
     ]
    }
   ],
   "source": [
    "\n",
    "#reversing a string\n",
    "def string(s):\n",
    "    reverse=\"\"\n",
    "    for i in s:\n",
    "        reverse=i+reverse\n",
    "    return reverse\n",
    "s=input(\"enter a string\")\n",
    "print(string(s))"
   ]
  },
  {
   "cell_type": "code",
   "execution_count": 5,
   "id": "6f672311",
   "metadata": {},
   "outputs": [
    {
     "name": "stdout",
     "output_type": "stream",
     "text": [
      "enter a stringmadam\n",
      "Given input is palindrome\n"
     ]
    }
   ],
   "source": [
    "#6\n",
    "#palindrome\n",
    "def palindrome(s):\n",
    "    reverse=\"\"\n",
    "    for i in s:\n",
    "        reverse=i+reverse\n",
    "    a=reverse\n",
    "    if a==s:\n",
    "        print(\"Given input is palindrome\")\n",
    "    else:\n",
    "        print(\"Not a Palindrome\")\n",
    "    \n",
    "        \n",
    "s=input(\"enter a string\")\n",
    "palindrome(s)"
   ]
  },
  {
   "cell_type": "code",
   "execution_count": 6,
   "id": "b6a12465",
   "metadata": {},
   "outputs": [
    {
     "name": "stdout",
     "output_type": "stream",
     "text": [
      "aaccbbddd\n",
      "{'b': 2, 'c': 2, 'd': 3, 'a': 2}\n"
     ]
    }
   ],
   "source": [
    "#5\n",
    "#count each string\n",
    "def countfrequency(s):\n",
    "    frequency_dict = {}\n",
    "    for char in set(s):  \n",
    "        frequency_dict[char] = s.count(char)\n",
    "    return frequency_dict\n",
    "\n",
    "\n",
    "s = input()\n",
    "frequency = countfrequency(s)\n",
    "print(frequency)"
   ]
  },
  {
   "cell_type": "code",
   "execution_count": 7,
   "id": "2734d494",
   "metadata": {},
   "outputs": [
    {
     "name": "stdout",
     "output_type": "stream",
     "text": [
      "Hi kalyani \n",
      "How are you kalyani \n"
     ]
    }
   ],
   "source": [
    "#replacing a string with new string\n",
    "a=\"\"\"Hi Name \n",
    "How are you Name \"\"\"\n",
    "b=\"kalyani\"\n",
    "c=a.replace(\"Name\",b)\n",
    "print(c)"
   ]
  },
  {
   "cell_type": "code",
   "execution_count": 8,
   "id": "de5c8f1b",
   "metadata": {},
   "outputs": [
    {
     "name": "stdout",
     "output_type": "stream",
     "text": [
      " substrings are: ['s', 'sk', 'sky', 'k', 'ky', 'y']\n"
     ]
    }
   ],
   "source": [
    "#  find all substrings of a given string\n",
    "def substring(s):\n",
    "    substrings = []\n",
    "    for i in range(len(s)):\n",
    "        for j in range(i+1, len(s)+1):\n",
    "            substrings.append(s[i:j])\n",
    "    return substrings\n",
    "\n",
    "s = \"sky\"\n",
    "sub = substring(s)\n",
    "print(\" substrings are:\", sub)\n"
   ]
  },
  {
   "cell_type": "markdown",
   "id": "db636e48",
   "metadata": {},
   "source": [
    "# FLOAT\n",
    "\n",
    "9.float: Write a program to round a float to 2 decimal places.\n",
    "\n",
    "10.float: Write a Python program to convert a float number to a string and vice versa.\n",
    "\n",
    "11.float: Write a Python program to perform basic arithmetic operations (addition, subtraction, multiplication, division) on floating-point numbers."
   ]
  },
  {
   "cell_type": "code",
   "execution_count": 9,
   "id": "5d86d13c",
   "metadata": {},
   "outputs": [
    {
     "name": "stdout",
     "output_type": "stream",
     "text": [
      "enter a number5.236479\n",
      "5.24\n"
     ]
    }
   ],
   "source": [
    "#round a float to 2 decimal\n",
    "f=float(input(\"enter a number\"))\n",
    "print(round(f,2))"
   ]
  },
  {
   "cell_type": "code",
   "execution_count": 10,
   "id": "b338e5c2",
   "metadata": {},
   "outputs": [
    {
     "name": "stdout",
     "output_type": "stream",
     "text": [
      "enter a input  of string  or float5.222\n",
      "enter a string5\n",
      " Given input is float is  converted to string <class 'str'>\n",
      "Give input string is converted to float <class 'float'>\n"
     ]
    }
   ],
   "source": [
    "#converting float to string\n",
    "string=float(input(\"enter a input  of string  or float\"))\n",
    "s=input(\"enter a string\")\n",
    "\n",
    "if type(string) == type(5.22):\n",
    "    a=str(string)\n",
    "    print(\" Given input is float is  converted to string\",type(a))\n",
    "\n",
    "else:\n",
    "    print(\"enter correct input\")\n",
    "f=float(s)\n",
    "print(\"Give input string is converted to float\",type(f))"
   ]
  },
  {
   "cell_type": "code",
   "execution_count": 11,
   "id": "4b5ae3a3",
   "metadata": {},
   "outputs": [
    {
     "name": "stdout",
     "output_type": "stream",
     "text": [
      "enter a number:5\n",
      "enter b number:5\n",
      "enter arithmetic operator: +\n",
      "addition 10.0\n"
     ]
    }
   ],
   "source": [
    "#arithmetic operations\n",
    "def add(a,b):\n",
    "    return a+b\n",
    "def sub(a,b):\n",
    "    return a-b\n",
    "def multi(a,b):\n",
    "    return a*b\n",
    "def div(a,b):\n",
    "    return a/b\n",
    "a=float(input(\"enter a number:\"))\n",
    "b=float(input(\"enter b number:\"))\n",
    "c=input(\"enter arithmetic operator: \")\n",
    "if c=='+':\n",
    "    print(\"addition\",add(a,b))\n",
    "elif c== '-':\n",
    "    print(\"substraction\",sub(a,b))\n",
    "elif c== \"*\":\n",
    "    print(\"Multplication\",multi(a,b))\n",
    "elif c==\"/\":\n",
    "    print(\"Division\",div(a,b))\n",
    "else:\n",
    "    print(\"enter correct arithmetic operator\")"
   ]
  },
  {
   "cell_type": "markdown",
   "id": "1f5fe594",
   "metadata": {},
   "source": [
    "# COMPLEX\n",
    "\n",
    "12.complex: Write a program to add two complex numbers.\n",
    "\n",
    "13.complex: Write a program to find the magnitude of a complex number.\n",
    "\n",
    "14.complex: Write a Python program to convert a complex number to its polar coordinates.\n",
    "\n",
    "15.complex: Write a program to multiply two complex numbers."
   ]
  },
  {
   "cell_type": "code",
   "execution_count": 12,
   "id": "ca69a0ed",
   "metadata": {},
   "outputs": [
    {
     "name": "stdout",
     "output_type": "stream",
     "text": [
      "enter a complex number5+9j\n",
      "enter b complex number6+3j\n",
      "addition of complex number (11+12j)\n"
     ]
    }
   ],
   "source": [
    "#add complex numbers\n",
    "a=complex(input(\"enter a complex number\"))\n",
    "b=complex(input(\"enter b complex number\"))\n",
    "print(\"addition of complex number\",a+b)"
   ]
  },
  {
   "cell_type": "code",
   "execution_count": 13,
   "id": "ca7ce460",
   "metadata": {},
   "outputs": [
    {
     "name": "stdout",
     "output_type": "stream",
     "text": [
      "enter a complex number5+5j\n",
      "enter b complex number5+6j\n",
      "multiply of complex number (-5+55j)\n"
     ]
    }
   ],
   "source": [
    "#Multiplyin complex numbers\n",
    "a=complex(input(\"enter a complex number\"))\n",
    "b=complex(input(\"enter b complex number\"))\n",
    "print(\"multiply of complex number\",a*b)"
   ]
  },
  {
   "cell_type": "code",
   "execution_count": null,
   "id": "5bc23f64",
   "metadata": {},
   "outputs": [],
   "source": [
    "#Magnitude of complex \n",
    "a=complex(input(\"Enter a complex number\"))\n",
    "print(\"Magnitude of Complex number is\", abs(a))"
   ]
  },
  {
   "cell_type": "markdown",
   "id": "66fd7b29",
   "metadata": {},
   "source": [
    "# LIST\n",
    "16.list: Write a Python program to find the sum of all elements in a list.\n",
    "\n",
    "17.list: Write a program to remove duplicates from a list.\n",
    "\n",
    "18.list: Write a Python program to sort a list in ascending order without using the built-in sorted() function.\n",
    "\n",
    "19.list: Write a program to merge two lists and remove duplicates.\n",
    "\n",
    "20.list: Write a Python program to find the second largest element in a list."
   ]
  },
  {
   "cell_type": "code",
   "execution_count": 15,
   "id": "b453ee0d",
   "metadata": {},
   "outputs": [
    {
     "name": "stdout",
     "output_type": "stream",
     "text": [
      "enter a number1\n",
      "enter a number2\n",
      "enter a number3\n",
      "enter a number4\n",
      "enter a number5\n",
      "sum of elements in list 15\n"
     ]
    }
   ],
   "source": [
    "#sum of list\n",
    "a=[]\n",
    "for i in range(5):\n",
    "    c=int(input(\"enter a number\"))\n",
    "    a.append(c)\n",
    "print(\"sum of elements in list\",sum(a))"
   ]
  },
  {
   "cell_type": "code",
   "execution_count": 16,
   "id": "b73f3acf",
   "metadata": {},
   "outputs": [
    {
     "name": "stdout",
     "output_type": "stream",
     "text": [
      "enter a number1\n",
      "enter a number5\n",
      "enter a number6\n",
      "enter a number6\n",
      "enter a number4\n",
      "list with out duplicates [1, 4, 5, 6]\n"
     ]
    }
   ],
   "source": [
    "#list with out duplicates\n",
    "a=[]\n",
    "for i in range(5):\n",
    "    c=int(input(\"enter a number\"))\n",
    "    a.append(c)\n",
    "print(\"list with out duplicates\",list(set(a)))"
   ]
  },
  {
   "cell_type": "code",
   "execution_count": 17,
   "id": "3fac1c11",
   "metadata": {},
   "outputs": [
    {
     "name": "stdout",
     "output_type": "stream",
     "text": [
      "Merge of two lists without duplicates [1, 2, 3, 4, 5, 8, 9]\n"
     ]
    }
   ],
   "source": [
    "#Merge of two lists without duplicates \n",
    "l1=[1,2,3,8,9]\n",
    "l2=[5,4,9,8,2]\n",
    "l3=l1+l2\n",
    "print(\"Merge of two lists without duplicates\",list(set(l3)))"
   ]
  },
  {
   "cell_type": "code",
   "execution_count": 18,
   "id": "522e97eb",
   "metadata": {},
   "outputs": [
    {
     "name": "stdout",
     "output_type": "stream",
     "text": [
      "Sorted list: [2, 3, 7, 8, 9]\n"
     ]
    }
   ],
   "source": [
    "#sorting list without using sorted()\n",
    "l1 = [7, 2, 3, 8, 9]\n",
    "for i in range(len(l1) - 1): \n",
    "    for j in range(len(l1) - 1 - i):  \n",
    "        if l1[j] > l1[j + 1]:\n",
    "            \n",
    "            l1[j], l1[j + 1] = l1[j + 1], l1[j]\n",
    "\n",
    "print(\"Sorted list:\", l1)\n"
   ]
  },
  {
   "cell_type": "code",
   "execution_count": 19,
   "id": "48884cb8",
   "metadata": {},
   "outputs": [
    {
     "name": "stdout",
     "output_type": "stream",
     "text": [
      "sorted elements [1, 4, 5, 6, 8]\n",
      "second largest element 6\n"
     ]
    }
   ],
   "source": [
    "#finding second largest element in list\n",
    "l1=[5,8,1,4,6]\n",
    "l2=sorted(l1)\n",
    "print(\"sorted elements\",l2)\n",
    "print(\"second largest element\",l2[-2])"
   ]
  },
  {
   "cell_type": "markdown",
   "id": "a5e294f5",
   "metadata": {},
   "source": [
    "# TUPLE\n",
    "\n",
    "21.tuple: Write a Python program to find the index of an element in a tuple.\n",
    "\n",
    "22.tuple: Write a Python program to convert a tuple into a list and vice versa.\n",
    "\n",
    "23.tuple: Write a program to check if a given element is present in a tuple.\n",
    "\n",
    "24.tuple: Write a Python program to count the occurrences of an element in a tuple.\n",
    "\n",
    "25.tuple: Write a Python program to concatenate multiple tuples."
   ]
  },
  {
   "cell_type": "code",
   "execution_count": 20,
   "id": "b1ab679d",
   "metadata": {},
   "outputs": [
    {
     "name": "stdout",
     "output_type": "stream",
     "text": [
      "(1, 2, 3, 4)\n",
      "enter a number to find index 4\n",
      "The index is  3\n"
     ]
    }
   ],
   "source": [
    "#Index of a element\n",
    "t1=(1,2,3,4)\n",
    "print(t1)\n",
    "a=int(input(\"enter a number to find index \"))\n",
    "if a in t1:\n",
    "    print(\"The index is \", t1.index(a))\n",
    "else:\n",
    "    print(\"The nubmer doesnot exist\")"
   ]
  },
  {
   "cell_type": "code",
   "execution_count": 21,
   "id": "7cb1ba74",
   "metadata": {},
   "outputs": [
    {
     "name": "stdout",
     "output_type": "stream",
     "text": [
      "the tuple is  (1, 2, 3, 4)\n",
      "tuple to list [1, 2, 3, 4]\n",
      "list to tuple (1, 2, 3, 4)\n"
     ]
    }
   ],
   "source": [
    "#Tuple to list and  vice versa\n",
    "t1=(1,2,3,4)\n",
    "l1=list(t1)\n",
    "print(\"the tuple is \", t1)\n",
    "print(\"tuple to list\",l1)\n",
    "print(\"list to tuple\",tuple(l1))\n"
   ]
  },
  {
   "cell_type": "code",
   "execution_count": 22,
   "id": "15386984",
   "metadata": {},
   "outputs": [
    {
     "name": "stdout",
     "output_type": "stream",
     "text": [
      "(1, 2, 3, 4, 5)\n",
      "enter a number to check wheather it exist or not6\n",
      "The number doesnot exist\n"
     ]
    }
   ],
   "source": [
    "#To check weather Number present or not\n",
    "t1=(1,2,3,4,5)\n",
    "print(t1)\n",
    "a=int(input(\"enter a number to check wheather it exist or not\"))\n",
    "if a in t1:\n",
    "    print(\"The number exists\")\n",
    "else:\n",
    "    print(\"The number doesnot exist\")"
   ]
  },
  {
   "cell_type": "code",
   "execution_count": 23,
   "id": "110c8394",
   "metadata": {},
   "outputs": [
    {
     "name": "stdout",
     "output_type": "stream",
     "text": [
      "(1, 1, 2, 3, 4, 5, 5, 6, 4, 7, 8, 8, 9, 9, 5, 6, 1, 3, 3, 4)\n",
      "enter a number to find the occurence of element9\n",
      "count of given element 2\n"
     ]
    }
   ],
   "source": [
    "#To check occurence of a element\n",
    "t1=(1,1,2,3,4,5,5,6,4,7,8,8,9,9,5,6,1,3,3,4)\n",
    "print(t1)\n",
    "e=int(input(\"enter a number to find the occurence of element\"))\n",
    "if e in t1:\n",
    "    c=t1.count(e)\n",
    "    print(\"count of given element\",c)\n",
    "else:\n",
    "    print(\"enter correct element\")"
   ]
  },
  {
   "cell_type": "code",
   "execution_count": 24,
   "id": "f7cb4c27",
   "metadata": {},
   "outputs": [
    {
     "name": "stdout",
     "output_type": "stream",
     "text": [
      "concatenate of multiple tuples (1, 2, 3, 4, 5, 6, 7, 8, 9, 10, 11, 12, 13, 14, 15)\n"
     ]
    }
   ],
   "source": [
    "# Write a Python program to concatenate multiple tuples.\n",
    "t1=(1,2,3,4)\n",
    "t2=(5,6,7,8,9,10)\n",
    "t3=(11,12,13,14,15)\n",
    "t4=t1+t2+t3\n",
    "print(\"concatenate of multiple tuples\",t4)\n"
   ]
  },
  {
   "cell_type": "markdown",
   "id": "26754d97",
   "metadata": {},
   "source": [
    "# SET\n",
    "\n",
    "26.set: Write a program to find the union and intersection of two sets.\n",
    "\n",
    "27.set: Write a Python program to check if a set is a subset of another set.\n",
    "\n",
    "28.set: Write a program to remove an element from a set if it exists.\n",
    "\n",
    "29.set: Write a Python program to find the difference between two sets.\n",
    "\n",
    "30.set: Write a Python program to create a set from a list, removing duplicates."
   ]
  },
  {
   "cell_type": "code",
   "execution_count": 25,
   "id": "1a5dc5a1",
   "metadata": {},
   "outputs": [
    {
     "name": "stdout",
     "output_type": "stream",
     "text": [
      "union of two sets {1, 2, 3, 4, 5, 6, 7, 8}\n",
      "intersection of two sets {3}\n"
     ]
    }
   ],
   "source": [
    "#set union and intersection\n",
    "s1={1,2,3,4,5}\n",
    "s2={6,7,8,3}\n",
    "s3=s1.union(s2)\n",
    "s4=s1.intersection(s2)\n",
    "print(\"union of two sets\",s3)\n",
    "print(\"intersection of two sets\",s4)"
   ]
  },
  {
   "cell_type": "code",
   "execution_count": 26,
   "id": "ac671057",
   "metadata": {},
   "outputs": [
    {
     "name": "stdout",
     "output_type": "stream",
     "text": [
      "checking is subset or not: True\n"
     ]
    }
   ],
   "source": [
    "#to check set is subset or not\n",
    "s1={1,2,3,4,5,6}\n",
    "s2={1,2,3}\n",
    "print(\"checking is subset or not:\",s2.issubset(s1))"
   ]
  },
  {
   "cell_type": "code",
   "execution_count": 27,
   "id": "14a89ab5",
   "metadata": {},
   "outputs": [
    {
     "name": "stdout",
     "output_type": "stream",
     "text": [
      "{1, 2, 3, 4, 5}\n",
      "enter a number to remove3\n",
      "{1, 2, 4, 5}\n"
     ]
    }
   ],
   "source": [
    "#removing an element from set if it exists\n",
    "s1={1,2,3,4,5}\n",
    "print(s1)\n",
    "x=int(input(\"enter a number to remove\"))\n",
    "if x in s1:\n",
    "    s1.remove(x)\n",
    "    print(s1)\n",
    "else:\n",
    "    print(\"no such a element\")"
   ]
  },
  {
   "cell_type": "code",
   "execution_count": 28,
   "id": "18a4425f",
   "metadata": {},
   "outputs": [
    {
     "name": "stdout",
     "output_type": "stream",
     "text": [
      "difference of two sets {2, 4}\n"
     ]
    }
   ],
   "source": [
    "#set program for difference\n",
    "s1={1,2,3,4}\n",
    "s2={1,3,5,6}\n",
    "s3=s1.difference(s2)\n",
    "print(\"difference of two sets\",s3)"
   ]
  },
  {
   "cell_type": "code",
   "execution_count": 29,
   "id": "4dc149d3",
   "metadata": {},
   "outputs": [
    {
     "name": "stdout",
     "output_type": "stream",
     "text": [
      "set without duplicates from list {1, 2, 3, 4, 5}\n"
     ]
    }
   ],
   "source": [
    "#creating set from list with out duplicates\n",
    "list1=[1,1,2,3,4,5]\n",
    "set1=set(list1)\n",
    "print(\"set without duplicates from list\",set1)"
   ]
  },
  {
   "cell_type": "markdown",
   "id": "f3ff119c",
   "metadata": {},
   "source": [
    "# DICTIONARY\n",
    "\n",
    "31.dictionary: Write a Python program to find the sum of all values in a dictionary.\n",
    "\n",
    "32.dictionary: Write a Python program to sort a dictionary by its keys.\n",
    "\n",
    "33.dictionary: Write a program to merge two dictionaries into one.\n",
    "\n",
    "34.dictionary: Write a program to get all the keys from a dictionary.\n",
    "\n",
    "35.dictionary: Write a Python program to invert a dictionary (swap keys and values)."
   ]
  },
  {
   "cell_type": "code",
   "execution_count": 30,
   "id": "6a5fb575",
   "metadata": {},
   "outputs": [
    {
     "name": "stdout",
     "output_type": "stream",
     "text": [
      "The values of dictionary: dict_values([1, 2, 3])\n",
      "sum of all values are: 6\n"
     ]
    }
   ],
   "source": [
    "#sum of all values in dictionary\n",
    "d1={\"mango\":1,\"banana\":2,\"apple\":3}\n",
    "d2=d1.values()\n",
    "print(\"The values of dictionary:\",d2)\n",
    "print(\"sum of all values are:\",sum(d2))"
   ]
  },
  {
   "cell_type": "code",
   "execution_count": 31,
   "id": "b832292d",
   "metadata": {},
   "outputs": [
    {
     "name": "stdout",
     "output_type": "stream",
     "text": [
      "{'apple': 3, 'banana': 2, 'mango': 1}\n"
     ]
    }
   ],
   "source": [
    "#sort of dictionary using keys\n",
    "d1={\"mango\":1,\"banana\":2,\"apple\":3}\n",
    "print(dict(sorted(d1.items())))"
   ]
  },
  {
   "cell_type": "code",
   "execution_count": 32,
   "id": "37aa471c",
   "metadata": {},
   "outputs": [
    {
     "name": "stdout",
     "output_type": "stream",
     "text": [
      "add of two dictionaries {1: 'NZB', 2: 'HYD', 3: 'KMR', 4: 'TG', 5: 'AP', 6: 'UP'}\n"
     ]
    }
   ],
   "source": [
    "#Adding two dictionaries\n",
    "d1={1:\"NZB\",2:\"HYD\",3:\"KMR\"}\n",
    "d2={4:\"TG\",5:\"AP\",6:\"UP\"}\n",
    "d1.update(d2)\n",
    "print(\"add of two dictionaries\",d1)"
   ]
  },
  {
   "cell_type": "code",
   "execution_count": 33,
   "id": "3bc0b35a",
   "metadata": {},
   "outputs": [
    {
     "name": "stdout",
     "output_type": "stream",
     "text": [
      "only keys of dictionary dict_keys([1, 2, 3])\n"
     ]
    }
   ],
   "source": [
    "#Program to get all keys\n",
    "d={1:\"NZB\",2:\"HYD\",3:\"KMR\"}\n",
    "print(\"only keys of dictionary\",d.keys())"
   ]
  },
  {
   "cell_type": "code",
   "execution_count": 34,
   "id": "d9dd5478",
   "metadata": {},
   "outputs": [
    {
     "name": "stdout",
     "output_type": "stream",
     "text": [
      "The original dictionary {1: 'NZB', 2: 'HYD', 3: 'KMR'}\n",
      "swaping of keys and values {'NZB': 1, 'HYD': 2, 'KMR': 3}\n"
     ]
    }
   ],
   "source": [
    "#Python program to invert a dictionary (swap keys and values)\n",
    "d={1:\"NZB\",2:\"HYD\",3:\"KMR\"}\n",
    "k=list(d.keys())\n",
    "v=list(d.values())\n",
    "\n",
    "newdict={v[0]:k[0],v[1]:k[1],v[2]:k[2]}\n",
    "\n",
    "print(\"The original dictionary\",d)\n",
    "#print(k)\n",
    "#print(v)\n",
    "print(\"swaping of keys and values\",newdict)"
   ]
  },
  {
   "cell_type": "code",
   "execution_count": null,
   "id": "8389bc77",
   "metadata": {},
   "outputs": [],
   "source": []
  }
 ],
 "metadata": {
  "kernelspec": {
   "display_name": "Python 3 (ipykernel)",
   "language": "python",
   "name": "python3"
  },
  "language_info": {
   "codemirror_mode": {
    "name": "ipython",
    "version": 3
   },
   "file_extension": ".py",
   "mimetype": "text/x-python",
   "name": "python",
   "nbconvert_exporter": "python",
   "pygments_lexer": "ipython3",
   "version": "3.7.0"
  }
 },
 "nbformat": 4,
 "nbformat_minor": 5
}
